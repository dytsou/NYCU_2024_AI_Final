{
 "cells": [
  {
   "cell_type": "code",
   "execution_count": 57,
   "id": "d2fbad72-1e8d-4c87-a10c-fe53d6a415f4",
   "metadata": {},
   "outputs": [],
   "source": [
    "import pandas as pd\n",
    "import matplotlib.pyplot as plt\n",
    "import argparse\n",
    "\n",
    "from finrl.meta.preprocessor.preprocessors import data_split\n",
    "from finrl.config import INDICATORS\n",
    "from finrl.meta.env_stock_trading.env_stocktrading import StockTradingEnv\n",
    "from finrl.agents.stablebaselines3.models import DRLAgent\n",
    "from stable_baselines3 import PPO\n",
    "from finrl.main import check_and_make_directories\n",
    "from finrl.config import INDICATORS, TRAINED_MODEL_DIR\n",
    "from finrl.config import INDICATORS\n",
    "from finrl.plot import backtest_stats\n",
    "\n",
    "# Contestants are welcome to split the data in their own way for model tuning\n",
    "TRADE_START_DATE = '2018-01-01'\n",
    "TRADE_END_DATE = '2022-01-01'\n",
    "FILE_PATH = 'AAPL.csv'\n",
    "\n",
    "\n",
    "# PPO configs\n",
    "PPO_PARAMS = {\n",
    "    \"n_steps\": 2048,\n",
    "    \"ent_coef\": 0.01,\n",
    "    \"learning_rate\": 0.0003,\n",
    "    \"batch_size\": 128,\n",
    "}\n"
   ]
  },
  {
   "cell_type": "code",
   "execution_count": 58,
   "id": "33cd98d2-6683-4470-b5c0-699dfabe7634",
   "metadata": {},
   "outputs": [
    {
     "name": "stdout",
     "output_type": "stream",
     "text": [
      "Stock Dimension: 1, State Space: 11\n"
     ]
    }
   ],
   "source": [
    "# We will use unseen, post-deadline data for testing\n",
    "parser = argparse.ArgumentParser(description='Description of program')\n",
    "parser.add_argument('--start_date', default=TRADE_START_DATE, help='Trade start date (default: {})'.format(TRADE_START_DATE))\n",
    "parser.add_argument('--end_date', default=TRADE_END_DATE, help='Trade end date (default: {})'.format(TRADE_END_DATE))\n",
    "parser.add_argument('--data_file', default=FILE_PATH, help='Trade data file')\n",
    "\n",
    "args = parser.parse_known_args()[0]\n",
    "TRADE_START_DATE = args.start_date\n",
    "TRADE_END_DATE = args.end_date\n",
    "\n",
    "processed_full = pd.read_csv(args.data_file)\n",
    "trade = data_split(processed_full, TRADE_START_DATE, TRADE_END_DATE)\n",
    "\n",
    "stock_dimension = len(trade.tic.unique())\n",
    "state_space = 1 + 2*stock_dimension + len(INDICATORS)*stock_dimension\n",
    "print(f\"Stock Dimension: {stock_dimension}, State Space: {state_space}\")\n",
    "\n",
    "buy_cost_list = sell_cost_list = [0.001] * stock_dimension\n",
    "num_stock_shares = [0] * stock_dimension\n",
    "\n",
    "# please do not change initial_amount\n",
    "env_kwargs = {\n",
    "    \"hmax\": 100,\n",
    "    \"initial_amount\": 1000000,\n",
    "    \"num_stock_shares\": num_stock_shares,\n",
    "    \"buy_cost_pct\": buy_cost_list,\n",
    "    \"sell_cost_pct\": sell_cost_list,\n",
    "    \"state_space\": state_space,\n",
    "    \"stock_dim\": stock_dimension,\n",
    "    \"tech_indicator_list\": INDICATORS,\n",
    "    \"action_space\": stock_dimension,\n",
    "    \"reward_scaling\": 1e-4\n",
    "}\n"
   ]
  },
  {
   "cell_type": "code",
   "execution_count": 59,
   "id": "621e960a-1e91-4be9-bfc3-1d5ee97f9710",
   "metadata": {},
   "outputs": [
    {
     "data": {
      "text/plain": [
       "(['macd',\n",
       "  'boll_ub',\n",
       "  'boll_lb',\n",
       "  'rsi_30',\n",
       "  'cci_30',\n",
       "  'dx_30',\n",
       "  'close_30_sma',\n",
       "  'close_60_sma'],\n",
       " 8)"
      ]
     },
     "execution_count": 59,
     "metadata": {},
     "output_type": "execute_result"
    }
   ],
   "source": [
    "INDICATORS,len(INDICATORS)"
   ]
  },
  {
   "cell_type": "code",
   "execution_count": 60,
   "id": "66ebceda-4843-4314-9153-cb93a72372c5",
   "metadata": {},
   "outputs": [],
   "source": [
    "\n",
    "check_and_make_directories([TRAINED_MODEL_DIR])\n",
    "\n",
    "# Environment\n",
    "e_trade_gym = StockTradingEnv(df = trade, **env_kwargs)\n"
   ]
  },
  {
   "cell_type": "code",
   "execution_count": 61,
   "id": "822dc762-c3cb-465b-8520-ce81d101eada",
   "metadata": {},
   "outputs": [
    {
     "name": "stdout",
     "output_type": "stream",
     "text": [
      "{'n_steps': 2048, 'ent_coef': 0.01, 'learning_rate': 0.0003, 'batch_size': 128}\n",
      "Using cuda device\n",
      "Wrapping the env with a `Monitor` wrapper\n",
      "Wrapping the env in a DummyVecEnv.\n",
      "hit end!\n",
      "==============Get Backtest Results===========\n",
      "Annual return          0.382462\n",
      "Cumulative returns     2.652686\n",
      "Annual volatility      0.282966\n",
      "Sharpe ratio           1.287771\n",
      "Calmar ratio           1.217146\n",
      "Stability              0.892507\n",
      "Max drawdown          -0.314228\n",
      "Omega ratio            1.301201\n",
      "Sortino ratio          1.926447\n",
      "Skew                        NaN\n",
      "Kurtosis                    NaN\n",
      "Tail ratio             1.108345\n",
      "Daily value at risk   -0.034204\n",
      "dtype: float64\n"
     ]
    }
   ],
   "source": [
    "\n",
    "# PPO agent\n",
    "agent = DRLAgent(env = e_trade_gym)\n",
    "model_ppo = agent.get_model(\"ppo\", model_kwargs = PPO_PARAMS)\n",
    "trained_ppo = PPO.load(TRAINED_MODEL_DIR + '/trained_ppo')\n",
    "\n",
    "# Backtesting\n",
    "df_result_ppo, df_actions_ppo = DRLAgent.DRL_prediction(model=trained_ppo, environment = e_trade_gym)\n",
    "print(\"==============Get Backtest Results===========\")\n",
    "perf_stats_all = backtest_stats(account_value=df_result_ppo)\n",
    "\n",
    "\"\"\"Plotting\"\"\"\n",
    "plt.rcParams[\"figure.figsize\"] = (15,5)\n",
    "plt.figure()\n",
    "\n",
    "df_result_ppo.plot()\n",
    "plt.savefig(\"plot.png\")\n"
   ]
  },
  {
   "cell_type": "code",
   "execution_count": 19,
   "id": "b83a3ce3-ee7d-4ebc-ba16-b322d861a0b5",
   "metadata": {},
   "outputs": [],
   "source": [
    "\n",
    "df_result_ppo.to_csv(\"results.csv\", index=False)\n",
    "df_actions_ppo.to_csv(\"actions.csv\", index=False)"
   ]
  },
  {
   "cell_type": "code",
   "execution_count": 24,
   "id": "9455fc69-9769-472e-9b39-f72555c2ee92",
   "metadata": {},
   "outputs": [
    {
     "data": {
      "text/html": [
       "<div>\n",
       "<style scoped>\n",
       "    .dataframe tbody tr th:only-of-type {\n",
       "        vertical-align: middle;\n",
       "    }\n",
       "\n",
       "    .dataframe tbody tr th {\n",
       "        vertical-align: top;\n",
       "    }\n",
       "\n",
       "    .dataframe thead th {\n",
       "        text-align: right;\n",
       "    }\n",
       "</style>\n",
       "<table border=\"1\" class=\"dataframe\">\n",
       "  <thead>\n",
       "    <tr style=\"text-align: right;\">\n",
       "      <th></th>\n",
       "      <th>date</th>\n",
       "      <th>account_value</th>\n",
       "    </tr>\n",
       "  </thead>\n",
       "  <tbody>\n",
       "    <tr>\n",
       "      <th>0</th>\n",
       "      <td>2018-01-02</td>\n",
       "      <td>1.000000e+06</td>\n",
       "    </tr>\n",
       "    <tr>\n",
       "      <th>1</th>\n",
       "      <td>2018-01-03</td>\n",
       "      <td>9.999980e+05</td>\n",
       "    </tr>\n",
       "    <tr>\n",
       "      <th>2</th>\n",
       "      <td>2018-01-04</td>\n",
       "      <td>1.000012e+06</td>\n",
       "    </tr>\n",
       "    <tr>\n",
       "      <th>3</th>\n",
       "      <td>2018-01-05</td>\n",
       "      <td>1.000068e+06</td>\n",
       "    </tr>\n",
       "    <tr>\n",
       "      <th>4</th>\n",
       "      <td>2018-01-08</td>\n",
       "      <td>1.000041e+06</td>\n",
       "    </tr>\n",
       "    <tr>\n",
       "      <th>...</th>\n",
       "      <td>...</td>\n",
       "      <td>...</td>\n",
       "    </tr>\n",
       "    <tr>\n",
       "      <th>1003</th>\n",
       "      <td>2021-12-27</td>\n",
       "      <td>3.709461e+06</td>\n",
       "    </tr>\n",
       "    <tr>\n",
       "      <th>1004</th>\n",
       "      <td>2021-12-28</td>\n",
       "      <td>3.688067e+06</td>\n",
       "    </tr>\n",
       "    <tr>\n",
       "      <th>1005</th>\n",
       "      <td>2021-12-29</td>\n",
       "      <td>3.689919e+06</td>\n",
       "    </tr>\n",
       "    <tr>\n",
       "      <th>1006</th>\n",
       "      <td>2021-12-30</td>\n",
       "      <td>3.665645e+06</td>\n",
       "    </tr>\n",
       "    <tr>\n",
       "      <th>1007</th>\n",
       "      <td>2021-12-31</td>\n",
       "      <td>3.652686e+06</td>\n",
       "    </tr>\n",
       "  </tbody>\n",
       "</table>\n",
       "<p>1008 rows × 2 columns</p>\n",
       "</div>"
      ],
      "text/plain": [
       "            date  account_value\n",
       "0     2018-01-02   1.000000e+06\n",
       "1     2018-01-03   9.999980e+05\n",
       "2     2018-01-04   1.000012e+06\n",
       "3     2018-01-05   1.000068e+06\n",
       "4     2018-01-08   1.000041e+06\n",
       "...          ...            ...\n",
       "1003  2021-12-27   3.709461e+06\n",
       "1004  2021-12-28   3.688067e+06\n",
       "1005  2021-12-29   3.689919e+06\n",
       "1006  2021-12-30   3.665645e+06\n",
       "1007  2021-12-31   3.652686e+06\n",
       "\n",
       "[1008 rows x 2 columns]"
      ]
     },
     "execution_count": 24,
     "metadata": {},
     "output_type": "execute_result"
    }
   ],
   "source": [
    "df_result_ppo"
   ]
  },
  {
   "cell_type": "code",
   "execution_count": 62,
   "id": "97e12316-e5c2-45b9-9fdc-b1344861027c",
   "metadata": {},
   "outputs": [],
   "source": [
    "import numpy as np"
   ]
  },
  {
   "cell_type": "code",
   "execution_count": 97,
   "id": "58b59671-1f5f-4167-b7c2-4d48f76b69ac",
   "metadata": {},
   "outputs": [],
   "source": [
    "obs, info = e_trade_gym.reset()\n",
    "\n",
    "act,_=trained_ppo.predict(obs,deterministic=True)\n",
    "obs, reward, done, info, _=e_trade_gym.step(act)"
   ]
  },
  {
   "cell_type": "code",
   "execution_count": 98,
   "id": "507a4a77-c9d0-4948-8dbb-e0fa11446240",
   "metadata": {},
   "outputs": [
    {
     "name": "stdout",
     "output_type": "stream",
     "text": [
      "[998326.4908518982, 40.7694206237793, 41, 0.097252029031793, 41.79277009100359, 39.67199049859602, 54.84428224237349, 32.02815957909118, 8.972580382927342, 40.74543825785319, 39.801144727071126] -0.00019629025268368423 False False\n"
     ]
    }
   ],
   "source": [
    "print(obs,reward,done,info)"
   ]
  },
  {
   "cell_type": "code",
   "execution_count": 83,
   "id": "27838abe-b442-42fe-a95c-74b31e3192b3",
   "metadata": {},
   "outputs": [
    {
     "data": {
      "text/html": [
       "<div>\n",
       "<style scoped>\n",
       "    .dataframe tbody tr th:only-of-type {\n",
       "        vertical-align: middle;\n",
       "    }\n",
       "\n",
       "    .dataframe tbody tr th {\n",
       "        vertical-align: top;\n",
       "    }\n",
       "\n",
       "    .dataframe thead th {\n",
       "        text-align: right;\n",
       "    }\n",
       "</style>\n",
       "<table border=\"1\" class=\"dataframe\">\n",
       "  <thead>\n",
       "    <tr style=\"text-align: right;\">\n",
       "      <th></th>\n",
       "      <th>macd</th>\n",
       "      <th>boll_ub</th>\n",
       "      <th>boll_lb</th>\n",
       "      <th>rsi_30</th>\n",
       "      <th>cci_30</th>\n",
       "      <th>dx_30</th>\n",
       "      <th>close_30_sma</th>\n",
       "      <th>close_60_sma</th>\n",
       "    </tr>\n",
       "  </thead>\n",
       "  <tbody>\n",
       "    <tr>\n",
       "      <th>1</th>\n",
       "      <td>0.097252</td>\n",
       "      <td>41.792770</td>\n",
       "      <td>39.671990</td>\n",
       "      <td>54.844282</td>\n",
       "      <td>32.028160</td>\n",
       "      <td>8.972580</td>\n",
       "      <td>40.745438</td>\n",
       "      <td>39.801145</td>\n",
       "    </tr>\n",
       "    <tr>\n",
       "      <th>2</th>\n",
       "      <td>0.108549</td>\n",
       "      <td>41.801378</td>\n",
       "      <td>39.743630</td>\n",
       "      <td>55.752192</td>\n",
       "      <td>26.627213</td>\n",
       "      <td>8.972580</td>\n",
       "      <td>40.769505</td>\n",
       "      <td>39.871166</td>\n",
       "    </tr>\n",
       "    <tr>\n",
       "      <th>3</th>\n",
       "      <td>0.153362</td>\n",
       "      <td>41.845289</td>\n",
       "      <td>39.841510</td>\n",
       "      <td>57.907959</td>\n",
       "      <td>81.805295</td>\n",
       "      <td>17.562463</td>\n",
       "      <td>40.784181</td>\n",
       "      <td>39.948723</td>\n",
       "    </tr>\n",
       "    <tr>\n",
       "      <th>4</th>\n",
       "      <td>0.174451</td>\n",
       "      <td>41.854196</td>\n",
       "      <td>39.951671</td>\n",
       "      <td>56.960774</td>\n",
       "      <td>87.168362</td>\n",
       "      <td>18.599690</td>\n",
       "      <td>40.779368</td>\n",
       "      <td>40.021161</td>\n",
       "    </tr>\n",
       "  </tbody>\n",
       "</table>\n",
       "</div>"
      ],
      "text/plain": [
       "       macd    boll_ub    boll_lb     rsi_30     cci_30      dx_30  \\\n",
       "1  0.097252  41.792770  39.671990  54.844282  32.028160   8.972580   \n",
       "2  0.108549  41.801378  39.743630  55.752192  26.627213   8.972580   \n",
       "3  0.153362  41.845289  39.841510  57.907959  81.805295  17.562463   \n",
       "4  0.174451  41.854196  39.951671  56.960774  87.168362  18.599690   \n",
       "\n",
       "   close_30_sma  close_60_sma  \n",
       "1     40.745438     39.801145  \n",
       "2     40.769505     39.871166  \n",
       "3     40.784181     39.948723  \n",
       "4     40.779368     40.021161  "
      ]
     },
     "execution_count": 83,
     "metadata": {},
     "output_type": "execute_result"
    }
   ],
   "source": [
    "trade.iloc[1:5][INDICATORS]"
   ]
  },
  {
   "cell_type": "code",
   "execution_count": 56,
   "id": "bf21a9df-f62b-4d90-9858-bbd67165e730",
   "metadata": {},
   "outputs": [
    {
     "data": {
      "text/html": [
       "<div>\n",
       "<style scoped>\n",
       "    .dataframe tbody tr th:only-of-type {\n",
       "        vertical-align: middle;\n",
       "    }\n",
       "\n",
       "    .dataframe tbody tr th {\n",
       "        vertical-align: top;\n",
       "    }\n",
       "\n",
       "    .dataframe thead th {\n",
       "        text-align: right;\n",
       "    }\n",
       "</style>\n",
       "<table border=\"1\" class=\"dataframe\">\n",
       "  <thead>\n",
       "    <tr style=\"text-align: right;\">\n",
       "      <th></th>\n",
       "      <th>Unnamed: 0</th>\n",
       "      <th>date</th>\n",
       "      <th>tic</th>\n",
       "      <th>open</th>\n",
       "      <th>high</th>\n",
       "      <th>low</th>\n",
       "      <th>close</th>\n",
       "      <th>volume</th>\n",
       "      <th>day</th>\n",
       "      <th>macd</th>\n",
       "      <th>boll_ub</th>\n",
       "      <th>boll_lb</th>\n",
       "      <th>rsi_30</th>\n",
       "      <th>cci_30</th>\n",
       "      <th>dx_30</th>\n",
       "      <th>close_30_sma</th>\n",
       "      <th>close_60_sma</th>\n",
       "      <th>vix</th>\n",
       "      <th>turbulence</th>\n",
       "    </tr>\n",
       "  </thead>\n",
       "  <tbody>\n",
       "    <tr>\n",
       "      <th>0</th>\n",
       "      <td>79518</td>\n",
       "      <td>2018-01-02</td>\n",
       "      <td>AAPL</td>\n",
       "      <td>42.540001</td>\n",
       "      <td>43.075001</td>\n",
       "      <td>42.314999</td>\n",
       "      <td>40.776520</td>\n",
       "      <td>102223600.0</td>\n",
       "      <td>1.0</td>\n",
       "      <td>0.100701</td>\n",
       "      <td>41.790647</td>\n",
       "      <td>39.616592</td>\n",
       "      <td>54.885091</td>\n",
       "      <td>-26.206853</td>\n",
       "      <td>2.047009</td>\n",
       "      <td>40.729026</td>\n",
       "      <td>39.732157</td>\n",
       "      <td>9.77</td>\n",
       "      <td>87.994386</td>\n",
       "    </tr>\n",
       "    <tr>\n",
       "      <th>0</th>\n",
       "      <td>79519</td>\n",
       "      <td>2018-01-02</td>\n",
       "      <td>AMGN</td>\n",
       "      <td>175.350006</td>\n",
       "      <td>177.820007</td>\n",
       "      <td>174.419998</td>\n",
       "      <td>148.734131</td>\n",
       "      <td>2301100.0</td>\n",
       "      <td>1.0</td>\n",
       "      <td>0.324969</td>\n",
       "      <td>150.302490</td>\n",
       "      <td>146.077596</td>\n",
       "      <td>52.066901</td>\n",
       "      <td>43.217540</td>\n",
       "      <td>1.005582</td>\n",
       "      <td>146.796396</td>\n",
       "      <td>147.634223</td>\n",
       "      <td>9.77</td>\n",
       "      <td>87.994386</td>\n",
       "    </tr>\n",
       "    <tr>\n",
       "      <th>0</th>\n",
       "      <td>79520</td>\n",
       "      <td>2018-01-02</td>\n",
       "      <td>AXP</td>\n",
       "      <td>99.730003</td>\n",
       "      <td>99.730003</td>\n",
       "      <td>98.220001</td>\n",
       "      <td>90.798882</td>\n",
       "      <td>2746700.0</td>\n",
       "      <td>1.0</td>\n",
       "      <td>0.838976</td>\n",
       "      <td>91.720988</td>\n",
       "      <td>89.499608</td>\n",
       "      <td>61.220407</td>\n",
       "      <td>54.839514</td>\n",
       "      <td>8.987192</td>\n",
       "      <td>89.476157</td>\n",
       "      <td>87.715672</td>\n",
       "      <td>9.77</td>\n",
       "      <td>87.994386</td>\n",
       "    </tr>\n",
       "    <tr>\n",
       "      <th>0</th>\n",
       "      <td>79521</td>\n",
       "      <td>2018-01-02</td>\n",
       "      <td>BA</td>\n",
       "      <td>295.750000</td>\n",
       "      <td>296.989990</td>\n",
       "      <td>295.399994</td>\n",
       "      <td>282.886383</td>\n",
       "      <td>2978900.0</td>\n",
       "      <td>1.0</td>\n",
       "      <td>6.566992</td>\n",
       "      <td>290.952447</td>\n",
       "      <td>263.013742</td>\n",
       "      <td>69.766712</td>\n",
       "      <td>77.243008</td>\n",
       "      <td>43.332282</td>\n",
       "      <td>269.661096</td>\n",
       "      <td>258.772742</td>\n",
       "      <td>9.77</td>\n",
       "      <td>87.994386</td>\n",
       "    </tr>\n",
       "    <tr>\n",
       "      <th>0</th>\n",
       "      <td>79522</td>\n",
       "      <td>2018-01-02</td>\n",
       "      <td>CAT</td>\n",
       "      <td>158.300003</td>\n",
       "      <td>159.389999</td>\n",
       "      <td>156.029999</td>\n",
       "      <td>135.989395</td>\n",
       "      <td>5108400.0</td>\n",
       "      <td>1.0</td>\n",
       "      <td>4.423927</td>\n",
       "      <td>140.547637</td>\n",
       "      <td>118.203754</td>\n",
       "      <td>74.427824</td>\n",
       "      <td>124.902232</td>\n",
       "      <td>60.495428</td>\n",
       "      <td>126.169499</td>\n",
       "      <td>121.005159</td>\n",
       "      <td>9.77</td>\n",
       "      <td>87.994386</td>\n",
       "    </tr>\n",
       "  </tbody>\n",
       "</table>\n",
       "</div>"
      ],
      "text/plain": [
       "   Unnamed: 0        date   tic        open        high         low  \\\n",
       "0       79518  2018-01-02  AAPL   42.540001   43.075001   42.314999   \n",
       "0       79519  2018-01-02  AMGN  175.350006  177.820007  174.419998   \n",
       "0       79520  2018-01-02   AXP   99.730003   99.730003   98.220001   \n",
       "0       79521  2018-01-02    BA  295.750000  296.989990  295.399994   \n",
       "0       79522  2018-01-02   CAT  158.300003  159.389999  156.029999   \n",
       "\n",
       "        close       volume  day      macd     boll_ub     boll_lb     rsi_30  \\\n",
       "0   40.776520  102223600.0  1.0  0.100701   41.790647   39.616592  54.885091   \n",
       "0  148.734131    2301100.0  1.0  0.324969  150.302490  146.077596  52.066901   \n",
       "0   90.798882    2746700.0  1.0  0.838976   91.720988   89.499608  61.220407   \n",
       "0  282.886383    2978900.0  1.0  6.566992  290.952447  263.013742  69.766712   \n",
       "0  135.989395    5108400.0  1.0  4.423927  140.547637  118.203754  74.427824   \n",
       "\n",
       "       cci_30      dx_30  close_30_sma  close_60_sma   vix  turbulence  \n",
       "0  -26.206853   2.047009     40.729026     39.732157  9.77   87.994386  \n",
       "0   43.217540   1.005582    146.796396    147.634223  9.77   87.994386  \n",
       "0   54.839514   8.987192     89.476157     87.715672  9.77   87.994386  \n",
       "0   77.243008  43.332282    269.661096    258.772742  9.77   87.994386  \n",
       "0  124.902232  60.495428    126.169499    121.005159  9.77   87.994386  "
      ]
     },
     "execution_count": 56,
     "metadata": {},
     "output_type": "execute_result"
    }
   ],
   "source": [
    "trade.iloc[0:5]"
   ]
  },
  {
   "cell_type": "code",
   "execution_count": 1,
   "id": "98d4f8bb-13c1-4be1-b44c-76348dedb7b8",
   "metadata": {},
   "outputs": [
    {
     "name": "stdout",
     "output_type": "stream",
     "text": [
      "/home/freddy645645/.local/lib/python3.10/site-packages/pandas_datareader/compat/__init__.py:11: DeprecationWarning: distutils Version classes are deprecated. Use packaging.version instead.\n",
      "  PANDAS_VERSION = LooseVersion(pd.__version__)\n",
      "/home/freddy645645/.local/lib/python3.10/site-packages/pyfolio/pos.py:26: UserWarning: Module \"zipline.assets\" not found; mutltipliers will not be applied to position notionals.\n",
      "  warnings.warn(\n",
      "Stock Dimension: 1, State Space: 11\n",
      "{'n_steps': 2048, 'ent_coef': 0.01, 'learning_rate': 0.0003, 'batch_size': 128}\n",
      "Using cuda device\n",
      "Wrapping the env with a `Monitor` wrapper\n",
      "Wrapping the env in a DummyVecEnv.\n",
      "(755, 11) (755, 1)\n",
      "description:   0%|                                                           | 0/50 [00:00<?, ?it/s]/home/freddy645645/.local/lib/python3.10/site-packages/torch/nn/modules/loss.py:535: UserWarning: Using a target size (torch.Size([755, 11])) that is different to the input size (torch.Size([755, 1])). This will likely lead to incorrect results due to broadcasting. Please ensure they have the same size.\n",
      "  return F.mse_loss(input, target, reduction=self.reduction)\n",
      "train loss: 1.82e+05 | test loss: 1.82e+05 | reg: 5.87e+01 : 100%|██| 50/50 [00:49<00:00,  1.01it/s]\n"
     ]
    }
   ],
   "source": [
    "!python ./interpretable.py"
   ]
  },
  {
   "cell_type": "code",
   "execution_count": null,
   "id": "f22a35c2-7517-4590-8270-9d4209b4985e",
   "metadata": {},
   "outputs": [],
   "source": []
  },
  {
   "cell_type": "code",
   "execution_count": 1,
   "id": "3803d3f9-45a5-474b-ba88-b2d68ff2b564",
   "metadata": {},
   "outputs": [
    {
     "name": "stderr",
     "output_type": "stream",
     "text": [
      "/home/freddy645645/.local/lib/python3.10/site-packages/pandas_datareader/compat/__init__.py:11: DeprecationWarning: distutils Version classes are deprecated. Use packaging.version instead.\n",
      "  PANDAS_VERSION = LooseVersion(pd.__version__)\n",
      "/home/freddy645645/.local/lib/python3.10/site-packages/pyfolio/pos.py:26: UserWarning: Module \"zipline.assets\" not found; mutltipliers will not be applied to position notionals.\n",
      "  warnings.warn(\n"
     ]
    },
    {
     "name": "stdout",
     "output_type": "stream",
     "text": [
      "cpu\n",
      "Stock Dimension: 29, State Space: 262\n",
      "{'n_steps': 2048, 'ent_coef': 0.01, 'learning_rate': 0.0003, 'batch_size': 128}\n",
      "Using cuda device\n",
      "Wrapping the env with a `Monitor` wrapper\n",
      "Wrapping the env in a DummyVecEnv.\n"
     ]
    },
    {
     "name": "stderr",
     "output_type": "stream",
     "text": [
      "/home/freddy645645/.local/lib/python3.10/site-packages/stable_baselines3/common/save_util.py:167: UserWarning: Could not deserialize object clip_range. Consider using `custom_objects` argument to replace this object.\n",
      "Exception: Can't get attribute '_make_function' on <module 'cloudpickle.cloudpickle' from '/home/freddy645645/.local/lib/python3.10/site-packages/cloudpickle/cloudpickle.py'>\n",
      "  warnings.warn(\n",
      "/home/freddy645645/.local/lib/python3.10/site-packages/stable_baselines3/common/save_util.py:167: UserWarning: Could not deserialize object lr_schedule. Consider using `custom_objects` argument to replace this object.\n",
      "Exception: Can't get attribute '_make_function' on <module 'cloudpickle.cloudpickle' from '/home/freddy645645/.local/lib/python3.10/site-packages/cloudpickle/cloudpickle.py'>\n",
      "  warnings.warn(\n"
     ]
    }
   ],
   "source": [
    "import pandas as pd\n",
    "import matplotlib.pyplot as plt\n",
    "import argparse\n",
    "\n",
    "from finrl.meta.preprocessor.preprocessors import data_split\n",
    "from finrl.config import INDICATORS\n",
    "from finrl.meta.env_stock_trading.env_stocktrading import StockTradingEnv\n",
    "from finrl.agents.stablebaselines3.models import DRLAgent\n",
    "from stable_baselines3 import PPO\n",
    "from finrl.main import check_and_make_directories\n",
    "from finrl.config import INDICATORS, TRAINED_MODEL_DIR\n",
    "from finrl.config import INDICATORS\n",
    "from finrl.plot import backtest_stats\n",
    "import torch\n",
    "from kan import KAN\n",
    "import numpy as np\n",
    "\n",
    "# Contestants are welcome to split the data in their own way for model tuning\n",
    "TRADE_START_DATE = '2010-01-01'\n",
    "TRADE_END_DATE = '2020-06-29'\n",
    "FILE_PATH = 'datasets/train_data.csv'\n",
    "INDICATORS = [ \"macd\", \"boll_ub\", \"boll_lb\", \"rsi_30\", \"cci_30\", \"dx_30\", \"close_30_sma\"]\n",
    "# \"money\",\"stock\",\"close\"\n",
    "HIDDEN_WIDTH=(3,)\n",
    "# PPO configs\n",
    "PPO_PARAMS = {\n",
    "    \"n_steps\": 2048,\n",
    "    \"ent_coef\": 0.01,\n",
    "    \"learning_rate\": 0.0003,\n",
    "    \"batch_size\": 128,\n",
    "}\n",
    "\n",
    "class InterpretablePolicyExtractor:\n",
    "    lib = ['x', 'x^2', 'x^3', 'x^4', 'exp', 'log', 'sqrt', 'tanh', 'sin', 'abs']\n",
    "\n",
    "    def __init__(self, obs_dim, act_dim, hidden_widths,device):\n",
    "        self.device=device\n",
    "        print([obs_dim, *hidden_widths, act_dim])\n",
    "        self.policy = KAN(width=[obs_dim, *hidden_widths, act_dim],device=self.device)\n",
    "        self.loss_fn = torch.nn.MSELoss() \n",
    "\n",
    "    def train_from_dataset(self, dataset, steps: int = 20):\n",
    "        return self.policy.train(dataset, opt=\"LBFGS\", steps=steps, loss_fn=self.loss_fn)\n",
    "\n",
    "    def forward(self, observation):\n",
    "        observation = torch.from_numpy(observation).float()\n",
    "        action = self.policy(observation.unsqueeze(0))\n",
    "        return action.squeeze(0).detach().numpy()\n",
    "\n",
    "if __name__ == '__main__':\n",
    "    # We will use unseen, post-deadline data for testing\n",
    "    parser = argparse.ArgumentParser(description='Description of program')\n",
    "    parser.add_argument('--start_date', default=TRADE_START_DATE, help='Trade start date (default: {})'.format(TRADE_START_DATE))\n",
    "    parser.add_argument('--end_date', default=TRADE_END_DATE, help='Trade end date (default: {})'.format(TRADE_END_DATE))\n",
    "    parser.add_argument('--data_file', default=FILE_PATH, help='Trade data file')\n",
    "\n",
    "    args = parser.parse_known_args()[0]#parser.parse_args()\n",
    "    TRADE_START_DATE = args.start_date\n",
    "    TRADE_END_DATE = args.end_date\n",
    "    device ='cpu' #torch.device('cuda' if torch.cuda.is_available() else 'cpu')\n",
    "    print(device)\n",
    "    processed_full = pd.read_csv(args.data_file)\n",
    "    trade = data_split(processed_full, TRADE_START_DATE, TRADE_END_DATE)\n",
    "    \n",
    "    stock_dimension = len(trade.tic.unique())\n",
    "    state_space = 1 + 2*stock_dimension + len(INDICATORS)*stock_dimension\n",
    "    print(f\"Stock Dimension: {stock_dimension}, State Space: {state_space}\")\n",
    "\n",
    "    buy_cost_list = sell_cost_list = [0.001] * stock_dimension\n",
    "    num_stock_shares = [0] * stock_dimension\n",
    "\n",
    "    # please do not change initial_amount\n",
    "    env_kwargs = {\n",
    "        \"hmax\": 100,\n",
    "        \"initial_amount\": 1000000,\n",
    "        \"num_stock_shares\": num_stock_shares,\n",
    "        \"buy_cost_pct\": buy_cost_list,\n",
    "        \"sell_cost_pct\": sell_cost_list,\n",
    "        \"state_space\": state_space,\n",
    "        \"stock_dim\": stock_dimension,\n",
    "        \"tech_indicator_list\": INDICATORS,\n",
    "        \"action_space\": stock_dimension,\n",
    "        \"reward_scaling\": 1e-4\n",
    "    }\n",
    "\n",
    "    check_and_make_directories([TRAINED_MODEL_DIR])\n",
    "\n",
    "    # Environment\n",
    "    e_trade_gym = StockTradingEnv(df = trade, **env_kwargs)\n",
    "    \n",
    "    # PPO agent\n",
    "    agent = DRLAgent(env = e_trade_gym)\n",
    "    model_ppo = agent.get_model(\"ppo\", model_kwargs = PPO_PARAMS)\n",
    "    trained_ppo = PPO.load(TRAINED_MODEL_DIR + '/trained_ppo')\n",
    "\n",
    "    # Backtesting\n",
    "    e_trade_gym.reset()\n",
    "    obs, info = e_trade_gym.reset()\n",
    "    Obs,Act = [], []\n",
    "    while True:\n",
    "        act, _ = trained_ppo.predict(obs,deterministic=True)\n",
    "        obs, reward, done, info, _=e_trade_gym.step(act)\n",
    "        Obs.append(np.array(obs))\n",
    "        Act.append(np.array(act))\n",
    "        if done:\n",
    "            break"
   ]
  },
  {
   "cell_type": "code",
   "execution_count": 2,
   "id": "3978f275-9306-4393-9d81-66ec9e1b6f65",
   "metadata": {},
   "outputs": [],
   "source": [
    "Obs=np.array(Obs)\n",
    "Act=np.array(Act)"
   ]
  },
  {
   "cell_type": "code",
   "execution_count": 3,
   "id": "5bde55ed-4f69-4c80-80a6-f9287b2f752e",
   "metadata": {},
   "outputs": [
    {
     "data": {
      "text/plain": [
       "(990671.2625025443,\n",
       " array([6.47314882e+00, 7.00000000e+00, 2.50649758e-04, 6.48336225e+00,\n",
       "        6.45176358e+00, 1.00000000e+02, 6.66666667e+01, 1.00000000e+02,\n",
       "        6.46756291e+00]),\n",
       " array([ 0.07297935,  0.1171992 , -0.15061091,  0.0762595 , -0.03399291,\n",
       "        -0.29635954, -0.06371976,  0.12015542, -0.12430508,  0.03927933,\n",
       "        -0.01609682, -0.18481097,  0.24463241,  0.22103421,  0.19086793,\n",
       "         0.01203714, -0.08494841,  0.18690364,  0.07116038,  0.19396436,\n",
       "         0.12846857, -0.02107504,  0.26639253,  0.11042807,  0.07798262,\n",
       "         0.43434235, -0.02202073,  0.06234317,  0.210268  ], dtype=float32))"
      ]
     },
     "execution_count": 3,
     "metadata": {},
     "output_type": "execute_result"
    }
   ],
   "source": [
    "\n",
    "Obs[0,0],Obs[0,1:state_space:stock_dimension],Act[0]"
   ]
  },
  {
   "cell_type": "code",
   "execution_count": 12,
   "id": "2940c829-e786-4b0f-9873-97eafd43f733",
   "metadata": {},
   "outputs": [],
   "source": [
    "stocks=trade.tic.unique()\n",
    "stocks_Obs=[np.concatenate((Obs[:,0].reshape(-1,1),Obs[:,i+1:state_space:stock_dimension]),axis=1) for i in range(stock_dimension)]\n",
    "stocks_Act=[Act[:,i].reshape(-1,1) for i in range(stock_dimension)]\n",
    "    "
   ]
  },
  {
   "cell_type": "code",
   "execution_count": 13,
   "id": "cda43659-1602-4e9e-af22-75de541f3efa",
   "metadata": {},
   "outputs": [],
   "source": [
    "input_names=[\"money\",\"close\",\"holding\",*INDICATORS]\n"
   ]
  },
  {
   "cell_type": "code",
   "execution_count": 14,
   "id": "b28a8d0f-ce63-477b-840e-d376c6260f12",
   "metadata": {},
   "outputs": [
    {
     "data": {
      "text/plain": [
       "(2639, 10)"
      ]
     },
     "execution_count": 14,
     "metadata": {},
     "output_type": "execute_result"
    }
   ],
   "source": [
    "stocks_Obs[0].shape"
   ]
  },
  {
   "cell_type": "code",
   "execution_count": 15,
   "id": "7dbecc2e-e9de-4937-919e-93bcb014c955",
   "metadata": {},
   "outputs": [],
   "source": [
    "stocks_Obs=[np.concatenate(stocks_Obs,axis=0)]\n",
    "stocks_Act=[np.concatenate(stocks_Act,axis=0)]"
   ]
  },
  {
   "cell_type": "code",
   "execution_count": 17,
   "id": "2c1258c3-ed7f-4509-b9eb-18ae5db7e90e",
   "metadata": {},
   "outputs": [
    {
     "data": {
      "text/plain": [
       "((76531, 10), (76531, 1))"
      ]
     },
     "execution_count": 17,
     "metadata": {},
     "output_type": "execute_result"
    }
   ],
   "source": [
    "stocks=['all']\n",
    "stocks_Obs[0].shape,stocks_Act[0].shape"
   ]
  },
  {
   "cell_type": "code",
   "execution_count": 18,
   "id": "a8195b75-36bc-4082-883a-87301c6348fb",
   "metadata": {},
   "outputs": [
    {
     "name": "stdout",
     "output_type": "stream",
     "text": [
      "[10, 3, 1]\n"
     ]
    },
    {
     "name": "stderr",
     "output_type": "stream",
     "text": [
      "train loss: 1.02e-01 | test loss: 1.02e-01 | reg: 1.12e+01 : 100%|██| 50/50 [03:25<00:00,  4.11s/it]\n"
     ]
    },
    {
     "name": "stdout",
     "output_type": "stream",
     "text": [
      "all\n"
     ]
    }
   ],
   "source": [
    "for stock,obs,act in zip(stocks,stocks_Obs,stocks_Act):\n",
    "    obsTen=torch.tensor(obs).float().to(device)\n",
    "    actTen=torch.tensor(act).float().to(device)\n",
    "    dataset={'train_input': obsTen,\n",
    "             'train_label': actTen,\n",
    "             'test_input': obsTen,\n",
    "             'test_label': actTen,\n",
    "             }\n",
    "    agent=InterpretablePolicyExtractor(obs_dim=obs.shape[1],act_dim=act.shape[1],hidden_widths=HIDDEN_WIDTH,device=device)\n",
    "    agent.train_from_dataset(dataset,steps=50)\n",
    "    #agent.policy.prune()\n",
    "    #agent.policy.prune()\n",
    "    agent.policy.plot(scale=10, beta=100, title=f'{stock} KAN')#in_vars=input_names,\n",
    "    print(stock)\n",
    "    plt.savefig(f\"pics/{stock}-kan-policy.png\")\n",
    "    "
   ]
  },
  {
   "cell_type": "code",
   "execution_count": null,
   "id": "dd838e99-8269-4fac-9712-730cfae6a3af",
   "metadata": {},
   "outputs": [],
   "source": []
  },
  {
   "cell_type": "code",
   "execution_count": 17,
   "id": "e2226c4d-f50c-4ab4-84cd-5b3b4c9d283c",
   "metadata": {},
   "outputs": [
    {
     "data": {
      "text/plain": [
       "array([0.16984878], dtype=float32)"
      ]
     },
     "execution_count": 17,
     "metadata": {},
     "output_type": "execute_result"
    }
   ],
   "source": [
    "max(abs(stocks_Act[0]))"
   ]
  },
  {
   "cell_type": "code",
   "execution_count": null,
   "id": "1549e214-93af-489d-a881-e4b1407083c6",
   "metadata": {},
   "outputs": [],
   "source": []
  }
 ],
 "metadata": {
  "kernelspec": {
   "display_name": "Python 3 (ipykernel)",
   "language": "python",
   "name": "python3"
  },
  "language_info": {
   "codemirror_mode": {
    "name": "ipython",
    "version": 3
   },
   "file_extension": ".py",
   "mimetype": "text/x-python",
   "name": "python",
   "nbconvert_exporter": "python",
   "pygments_lexer": "ipython3",
   "version": "3.10.12"
  }
 },
 "nbformat": 4,
 "nbformat_minor": 5
}
